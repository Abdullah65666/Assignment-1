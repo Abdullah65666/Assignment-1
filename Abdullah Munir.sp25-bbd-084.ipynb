{
 "cells": [
  {
   "cell_type": "markdown",
   "id": "d9d04041-8a31-47c2-a313-cf923b0e8125",
   "metadata": {},
   "source": [
    "#Name : Abdullah Munir\n",
    "\n",
    "\n",
    "#Roll no : SP25-BBD-084 - B\n",
    "\n",
    "\n",
    "#Assignment -1 {Lab}\n"
   ]
  },
  {
   "cell_type": "code",
   "execution_count": 2,
   "id": "84a5f033-4946-4459-bc10-682d9a4ff04d",
   "metadata": {},
   "outputs": [
    {
     "name": "stdout",
     "output_type": "stream",
     "text": [
      "2\n",
      "4\n",
      "6\n",
      "8\n",
      "10\n",
      "12\n",
      "14\n",
      "16\n",
      "18\n",
      "20\n"
     ]
    }
   ],
   "source": [
    "#Q1:\n",
    "for num in range (2,21,2):\n",
    "    print(num)"
   ]
  },
  {
   "cell_type": "code",
   "execution_count": 5,
   "id": "17c8142e-f53d-495c-8493-8324dadfc012",
   "metadata": {},
   "outputs": [
    {
     "name": "stdout",
     "output_type": "stream",
     "text": [
      "ALI\n",
      "HAMZA\n",
      "AHSAN\n"
     ]
    }
   ],
   "source": [
    "#Q2:\n",
    "names=('ali','hamza','ahsan')\n",
    "for name in names:\n",
    "    print(name.upper())\n"
   ]
  },
  {
   "cell_type": "code",
   "execution_count": 7,
   "id": "4d3feda4-c79c-4512-9188-cfe1bcbc1bc7",
   "metadata": {},
   "outputs": [
    {
     "name": "stdout",
     "output_type": "stream",
     "text": [
      "10\n",
      "9\n",
      "8\n",
      "7\n",
      "6\n",
      "5\n",
      "4\n",
      "3\n",
      "2\n",
      "1\n"
     ]
    }
   ],
   "source": [
    "#Q3:\n",
    "for num in range(10, 0, -1):\n",
    "    print(num)\n"
   ]
  },
  {
   "cell_type": "code",
   "execution_count": 9,
   "id": "b439f031-62e1-41f2-ad50-253933383b37",
   "metadata": {},
   "outputs": [
    {
     "name": "stdout",
     "output_type": "stream",
     "text": [
      "15\n",
      "33\n",
      "45\n",
      "60\n",
      "90\n"
     ]
    }
   ],
   "source": [
    "#Q4:\n",
    "numbers = [10, 15, 22, 33, 40, 45, 60, 77, 90]\n",
    "\n",
    "for num in numbers:\n",
    "    if num % 3 == 0:\n",
    "        print(num)\n"
   ]
  },
  {
   "cell_type": "code",
   "execution_count": 11,
   "id": "5c8b3fd9-aaba-4d4c-8817-e4ae4a91a1ab",
   "metadata": {},
   "outputs": [
    {
     "name": "stdout",
     "output_type": "stream",
     "text": [
      "1\n",
      "4\n",
      "9\n",
      "16\n",
      "25\n",
      "36\n",
      "49\n",
      "64\n",
      "81\n",
      "100\n"
     ]
    }
   ],
   "source": [
    "#Q5:\n",
    "for num in range(1, 11):\n",
    "    print(num ** 2)\n"
   ]
  },
  {
   "cell_type": "code",
   "execution_count": 13,
   "id": "70558e89-be6a-4b8a-b8cb-1c121d20d03f",
   "metadata": {},
   "outputs": [
    {
     "name": "stdout",
     "output_type": "stream",
     "text": [
      "0°C = 32.0°F\n",
      "10°C = 50.0°F\n",
      "20°C = 68.0°F\n",
      "30°C = 86.0°F\n",
      "40°C = 104.0°F\n",
      "100°C = 212.0°F\n"
     ]
    }
   ],
   "source": [
    "#Q6:\n",
    "celsius_temps = [0, 10, 20, 30, 40, 100]\n",
    "\n",
    "for c in celsius_temps:\n",
    "    f = (c * 9/5) + 32\n",
    "    print(f\"{c}°C = {f}°F\")\n"
   ]
  },
  {
   "cell_type": "code",
   "execution_count": 15,
   "id": "9d39ddd0-b411-4a3a-b6e3-b6b1f8421809",
   "metadata": {},
   "outputs": [
    {
     "name": "stdout",
     "output_type": "stream",
     "text": [
      "5 x 1 = 5\n",
      "5 x 2 = 10\n",
      "5 x 3 = 15\n",
      "5 x 4 = 20\n",
      "5 x 5 = 25\n",
      "5 x 6 = 30\n",
      "5 x 7 = 35\n",
      "5 x 8 = 40\n",
      "5 x 9 = 45\n",
      "5 x 10 = 50\n"
     ]
    }
   ],
   "source": [
    "#Q7:\n",
    "for i in range(1, 11):\n",
    "    print(f\"5 x {i} = {5 * i}\")\n"
   ]
  },
  {
   "cell_type": "code",
   "execution_count": 17,
   "id": "33821c4f-b071-4908-aff3-e0361711983e",
   "metadata": {},
   "outputs": [
    {
     "name": "stdout",
     "output_type": "stream",
     "text": [
      "150\n"
     ]
    }
   ],
   "source": [
    "#Q8:\n",
    "numbers = [10, 20, 30, 40, 50]  \n",
    "total = 0  \n",
    "\n",
    "for num in numbers:\n",
    "    total += num  \n",
    "\n",
    "print(total)\n"
   ]
  },
  {
   "cell_type": "code",
   "execution_count": 19,
   "id": "6bd0a831-67e1-4578-a6f2-f6d7bd603179",
   "metadata": {},
   "outputs": [
    {
     "name": "stdout",
     "output_type": "stream",
     "text": [
      "A\n",
      "b\n",
      "d\n",
      "u\n",
      "l\n",
      "l\n",
      "a\n",
      "h\n"
     ]
    }
   ],
   "source": [
    "#Q9:\n",
    "text = \"Abdullah\"\n",
    "\n",
    "for char in text:\n",
    "    print(char)\n"
   ]
  },
  {
   "cell_type": "code",
   "execution_count": 21,
   "id": "bf91793b-389c-41a2-a305-01b6164a683d",
   "metadata": {},
   "outputs": [
    {
     "name": "stdout",
     "output_type": "stream",
     "text": [
      "Abdullah\n",
      "Mohsin\n"
     ]
    }
   ],
   "source": [
    "#Q10:\n",
    "words = [\"Abdullah\", \"Ahmad\", \"Ali\", \"Akbar\", \"Mohsin\"]\n",
    "\n",
    "for word in words:\n",
    "    if len(word) > 5:\n",
    "        print(word)\n"
   ]
  },
  {
   "cell_type": "code",
   "execution_count": null,
   "id": "70fb9a94-c487-404a-a99c-0d8cc878428d",
   "metadata": {},
   "outputs": [],
   "source": []
  }
 ],
 "metadata": {
  "kernelspec": {
   "display_name": "Python [conda env:base] *",
   "language": "python",
   "name": "conda-base-py"
  },
  "language_info": {
   "codemirror_mode": {
    "name": "ipython",
    "version": 3
   },
   "file_extension": ".py",
   "mimetype": "text/x-python",
   "name": "python",
   "nbconvert_exporter": "python",
   "pygments_lexer": "ipython3",
   "version": "3.12.7"
  }
 },
 "nbformat": 4,
 "nbformat_minor": 5
}
